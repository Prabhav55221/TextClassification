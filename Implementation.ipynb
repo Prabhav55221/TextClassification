{
 "cells": [
  {
   "cell_type": "markdown",
   "metadata": {},
   "source": [
    "# INDEX"
   ]
  },
  {
   "cell_type": "markdown",
   "metadata": {},
   "source": [
    "##### 1. Extracting data from 20_newsgroups.\n",
    "##### 2. Creating dictionary for Naive Bayes and analysis of data.\n",
    "##### 3. Creating datasets.\n",
    "##### 4. Using SKLearn MultinomialNB for prediction.\n",
    "##### 5. Implementing own algorithm for Multinomial NB and testing.\n",
    "##### 6. Comparing Results."
   ]
  },
  {
   "cell_type": "markdown",
   "metadata": {},
   "source": [
    "### ----------------------------------------------------------------------------------------------------------------------------"
   ]
  },
  {
   "cell_type": "markdown",
   "metadata": {},
   "source": [
    "### Extracting data from 20_newsgroups."
   ]
  },
  {
   "cell_type": "code",
   "execution_count": 1,
   "metadata": {},
   "outputs": [],
   "source": [
    "# First we get a list of stop words from internet to prevent use of common words.\n",
    "\n",
    "stop_word = [\"a\", \"about\",\"above\",\"after\",\"again\",\"against\",\"all\",\"am\",\"an\",\"and\",\"any\",\"are\",\"as\",\"at\",\"be\",\"because\",\"been\",\"before\",\n",
    "             \"being\",\"below\",\"between\",\"both\",\"but\",\"by\",\"could\",\"did\",\"do\",\"does\",\"doing\",\"down\",\"during\",\"each\",\"few\",\"for\",\"from\",\n",
    "             \"further\",\"had\",\"has\",\"have\",\"having\",\"he\",\"he'd\",\"he'll\",\"he's\",\"her\",\"here\",\"here's\",\"hers\",\"herself\",\"him\",\"himself\",\n",
    "             \"his\",\"how\",\"how's\",\"i\",\"i'd\",\"i'll\",\"i'm\",\"i've\",\"if\",\"in\",\"into\",\"is\",\"it\",\"it's\",\"its\",\"itself\",\"let's\",\"me\",\n",
    "             \"more\",\"most\",\"my\",\"myself\",\"nor\",\"of\",\"on\",\"once\",\"only\",\"or\",\"other\",\"ought\",\"our\",\"ours\",\"ourselves\",\"out\",\"over\",\n",
    "             \"own\",\"same\",\"she\",\"she'd\",\"she'll\",\"she's\",\"should\",\"so\",\"some\",\"such\",\"than\",\"that\",\"that's\",\"the\",\"their\",\"theirs\",\n",
    "             \"them\",\"themselves\",\"then\",\"there\",\"there's\",\"these\",\"they\",\"they'd\",\"they'll\",\"they're\",\"they've\",\"this\",\"those\",\"through\",\n",
    "             \"to\",\"too\",\"under\",\"until\",\"up\",\"very\",\"was\",\"we\",\"we'd\",\"we'll\",\"we're\",\"we've\",\"were\",\"what\",\"what's\",\"when\",\"when's\",\n",
    "             \"where\",\"where's\",\"which\",\"while\",\"who\",\"who's\",\"whom\",\"why\",\"why's\",\"with\",\"would\",\"you\",\"you'd\",\"you'll\",\"you're\",\n",
    "             \"you've\",\"your\",\"yours\",\"yourself\",\"yourselves\"]"
   ]
  },
  {
   "cell_type": "code",
   "execution_count": 2,
   "metadata": {},
   "outputs": [],
   "source": [
    "# Importing necessary libraries for file extraction and model_selection.\n",
    "\n",
    "import numpy as np\n",
    "import pandas as pd\n",
    "import operator\n",
    "import os\n",
    "import sys\n",
    "from sklearn import model_selection\n",
    "import re\n",
    "import string"
   ]
  },
  {
   "cell_type": "code",
   "execution_count": 3,
   "metadata": {},
   "outputs": [],
   "source": [
    "# X is a list further made in form of tuple , where first element is name of document and second is the text in documents.\n",
    "# Y is the category\n",
    "X = [] \n",
    "Y = []\n",
    "for category in os.listdir(\"20_newsgroups\"):\n",
    "    for document in os.listdir(\"20_newsgroups/\" + category):\n",
    "        with open(\"20_newsgroups/\" + category + '/' + document ,\"r\") as f:\n",
    "            X.append((document,f.read()))\n",
    "            Y.append(category)"
   ]
  },
  {
   "cell_type": "code",
   "execution_count": 4,
   "metadata": {},
   "outputs": [
    {
     "name": "stdout",
     "output_type": "stream",
     "text": [
      "<class 'list'>\n",
      "<class 'tuple'>\n",
      "<class 'list'>\n",
      "('49960', 'Xref: cantaloupe.srv.cs.cmu.edu alt.atheism:49960 alt.atheism.moderated:713 news.answers:7054 alt.answers:126\\nPath: cantaloupe.srv.cs.cmu.edu!crabapple.srv.cs.cmu.edu!bb3.andrew.cmu.edu!news.sei.cmu.edu!cis.ohio-state.edu!magnus.acs.ohio-state.edu!usenet.ins.cwru.edu!agate!spool.mu.edu!uunet!pipex!ibmpcug!mantis!mathew\\nFrom: mathew <mathew@mantis.co.uk>\\nNewsgroups: alt.atheism,alt.atheism.moderated,news.answers,alt.answers\\nSubject: Alt.Atheism FAQ: Atheist Resources\\nSummary: Books, addresses, music -- anything related to atheism\\nKeywords: FAQ, atheism, books, music, fiction, addresses, contacts\\nMessage-ID: <19930329115719@mantis.co.uk>\\nDate: Mon, 29 Mar 1993 11:57:19 GMT\\nExpires: Thu, 29 Apr 1993 11:57:19 GMT\\nFollowup-To: alt.atheism\\nDistribution: world\\nOrganization: Mantis Consultants, Cambridge. UK.\\nApproved: news-answers-request@mit.edu\\nSupersedes: <19930301143317@mantis.co.uk>\\nLines: 290\\n\\nArchive-name: atheism/resources\\nAlt-atheism-archive-name: resources\\nLast-modified: 11 December 1992\\nVersion: 1.0\\n\\n                              Atheist Resources\\n\\n                      Addresses of Atheist Organizations\\n\\n                                     USA\\n\\nFREEDOM FROM RELIGION FOUNDATION\\n\\nDarwin fish bumper stickers and assorted other atheist paraphernalia are\\navailable from the Freedom From Religion Foundation in the US.\\n\\nWrite to:  FFRF, P.O. Box 750, Madison, WI 53701.\\nTelephone: (608) 256-8900\\n\\nEVOLUTION DESIGNS\\n\\nEvolution Designs sell the \"Darwin fish\".  It\\'s a fish symbol, like the ones\\nChristians stick on their cars, but with feet and the word \"Darwin\" written\\ninside.  The deluxe moulded 3D plastic fish is $4.95 postpaid in the US.\\n\\nWrite to:  Evolution Designs, 7119 Laurel Canyon #4, North Hollywood,\\n           CA 91605.\\n\\nPeople in the San Francisco Bay area can get Darwin Fish from Lynn Gold --\\ntry mailing <figmo@netcom.com>.  For net people who go to Lynn directly, the\\nprice is $4.95 per fish.\\n\\nAMERICAN ATHEIST PRESS\\n\\nAAP publish various atheist books -- critiques of the Bible, lists of\\nBiblical contradictions, and so on.  One such book is:\\n\\n\"The Bible Handbook\" by W.P. Ball and G.W. Foote.  American Atheist Press.\\n372 pp.  ISBN 0-910309-26-4, 2nd edition, 1986.  Bible contradictions,\\nabsurdities, atrocities, immoralities... contains Ball, Foote: \"The Bible\\nContradicts Itself\", AAP.  Based on the King James version of the Bible.\\n\\nWrite to:  American Atheist Press, P.O. Box 140195, Austin, TX 78714-0195.\\n      or:  7215 Cameron Road, Austin, TX 78752-2973.\\nTelephone: (512) 458-1244\\nFax:       (512) 467-9525\\n\\nPROMETHEUS BOOKS\\n\\nSell books including Haught\\'s \"Holy Horrors\" (see below).\\n\\nWrite to:  700 East Amherst Street, Buffalo, New York 14215.\\nTelephone: (716) 837-2475.\\n\\nAn alternate address (which may be newer or older) is:\\nPrometheus Books, 59 Glenn Drive, Buffalo, NY 14228-2197.\\n\\nAFRICAN-AMERICANS FOR HUMANISM\\n\\nAn organization promoting black secular humanism and uncovering the history of\\nblack freethought.  They publish a quarterly newsletter, AAH EXAMINER.\\n\\nWrite to:  Norm R. Allen, Jr., African Americans for Humanism, P.O. Box 664,\\n           Buffalo, NY 14226.\\n\\n                                United Kingdom\\n\\nRationalist Press Association          National Secular Society\\n88 Islington High Street               702 Holloway Road\\nLondon N1 8EW                          London N19 3NL\\n071 226 7251                           071 272 1266\\n\\nBritish Humanist Association           South Place Ethical Society\\n14 Lamb\\'s Conduit Passage              Conway Hall\\nLondon WC1R 4RH                        Red Lion Square\\n071 430 0908                           London WC1R 4RL\\nfax 071 430 1271                       071 831 7723\\n\\nThe National Secular Society publish \"The Freethinker\", a monthly magazine\\nfounded in 1881.\\n\\n                                   Germany\\n\\nIBKA e.V.\\nInternationaler Bund der Konfessionslosen und Atheisten\\nPostfach 880, D-1000 Berlin 41. Germany.\\n\\nIBKA publish a journal:\\nMIZ. (Materialien und Informationen zur Zeit. Politisches\\nJournal der Konfessionslosesn und Atheisten. Hrsg. IBKA e.V.)\\nMIZ-Vertrieb, Postfach 880, D-1000 Berlin 41. Germany.\\n\\nFor atheist books, write to:\\n\\nIBDK, Internationaler B\"ucherdienst der Konfessionslosen\\nPostfach 3005, D-3000 Hannover 1. Germany.\\nTelephone: 0511/211216\\n\\n\\n                               Books -- Fiction\\n\\nTHOMAS M. DISCH\\n\\n\"The Santa Claus Compromise\"\\nShort story.  The ultimate proof that Santa exists.  All characters and \\nevents are fictitious.  Any similarity to living or dead gods -- uh, well...\\n\\nWALTER M. MILLER, JR\\n\\n\"A Canticle for Leibowitz\"\\nOne gem in this post atomic doomsday novel is the monks who spent their lives\\ncopying blueprints from \"Saint Leibowitz\", filling the sheets of paper with\\nink and leaving white lines and letters.\\n\\nEDGAR PANGBORN\\n\\n\"Davy\"\\nPost atomic doomsday novel set in clerical states.  The church, for example,\\nforbids that anyone \"produce, describe or use any substance containing...\\natoms\". \\n\\nPHILIP K. DICK\\n\\nPhilip K. Dick Dick wrote many philosophical and thought-provoking short \\nstories and novels.  His stories are bizarre at times, but very approachable.\\nHe wrote mainly SF, but he wrote about people, truth and religion rather than\\ntechnology.  Although he often believed that he had met some sort of God, he\\nremained sceptical.  Amongst his novels, the following are of some relevance:\\n\\n\"Galactic Pot-Healer\"\\nA fallible alien deity summons a group of Earth craftsmen and women to a\\nremote planet to raise a giant cathedral from beneath the oceans.  When the\\ndeity begins to demand faith from the earthers, pot-healer Joe Fernwright is\\nunable to comply.  A polished, ironic and amusing novel.\\n\\n\"A Maze of Death\"\\nNoteworthy for its description of a technology-based religion.\\n\\n\"VALIS\"\\nThe schizophrenic hero searches for the hidden mysteries of Gnostic\\nChristianity after reality is fired into his brain by a pink laser beam of\\nunknown but possibly divine origin.  He is accompanied by his dogmatic and\\ndismissively atheist friend and assorted other odd characters.\\n\\n\"The Divine Invasion\"\\nGod invades Earth by making a young woman pregnant as she returns from\\nanother star system.  Unfortunately she is terminally ill, and must be\\nassisted by a dead man whose brain is wired to 24-hour easy listening music.\\n\\nMARGARET ATWOOD\\n\\n\"The Handmaid\\'s Tale\"\\nA story based on the premise that the US Congress is mysteriously\\nassassinated, and fundamentalists quickly take charge of the nation to set it\\n\"right\" again.  The book is the diary of a woman\\'s life as she tries to live\\nunder the new Christian theocracy.  Women\\'s right to own property is revoked,\\nand their bank accounts are closed; sinful luxuries are outlawed, and the\\nradio is only used for readings from the Bible.  Crimes are punished\\nretroactively: doctors who performed legal abortions in the \"old world\" are\\nhunted down and hanged.  Atwood\\'s writing style is difficult to get used to\\nat first, but the tale grows more and more chilling as it goes on.\\n\\nVARIOUS AUTHORS\\n\\n\"The Bible\"\\nThis somewhat dull and rambling work has often been criticized.  However, it\\nis probably worth reading, if only so that you\\'ll know what all the fuss is\\nabout.  It exists in many different versions, so make sure you get the one\\ntrue version.\\n\\n                             Books -- Non-fiction\\n\\nPETER DE ROSA\\n\\n\"Vicars of Christ\", Bantam Press, 1988\\nAlthough de Rosa seems to be Christian or even Catholic this is a very\\nenlighting history of papal immoralities, adulteries, fallacies etc.\\n(German translation: \"Gottes erste Diener. Die dunkle Seite des Papsttums\",\\nDroemer-Knaur, 1989)\\n\\nMICHAEL MARTIN\\n\\n\"Atheism: A Philosophical Justification\", Temple University Press,\\n Philadelphia, USA.\\nA detailed and scholarly justification of atheism.  Contains an outstanding\\nappendix defining terminology and usage in this (necessarily) tendentious\\narea.  Argues both for \"negative atheism\" (i.e. the \"non-belief in the\\nexistence of god(s)\") and also for \"positive atheism\" (\"the belief in the\\nnon-existence of god(s)\").  Includes great refutations of the most\\nchallenging arguments for god; particular attention is paid to refuting\\ncontempory theists such as Platinga and Swinburne.\\n541 pages. ISBN 0-87722-642-3 (hardcover; paperback also available)\\n\\n\"The Case Against Christianity\", Temple University Press\\nA comprehensive critique of Christianity, in which he considers\\nthe best contemporary defences of Christianity and (ultimately)\\ndemonstrates that they are unsupportable and/or incoherent.\\n273 pages. ISBN 0-87722-767-5\\n\\nJAMES TURNER\\n\\n\"Without God, Without Creed\", The Johns Hopkins University Press, Baltimore,\\n MD, USA\\nSubtitled \"The Origins of Unbelief in America\".  Examines the way in which\\nunbelief (whether agnostic or atheistic)  became a mainstream alternative\\nworld-view.  Focusses on the period 1770-1900, and while considering France\\nand Britain the emphasis is on American, and particularly New England\\ndevelopments.  \"Neither a religious history of secularization or atheism,\\nWithout God, Without Creed is, rather, the intellectual history of the fate\\nof a single idea, the belief that God exists.\" \\n316 pages. ISBN (hardcover) 0-8018-2494-X (paper) 0-8018-3407-4\\n\\nGEORGE SELDES (Editor)\\n\\n\"The great thoughts\", Ballantine Books, New York, USA\\nA \"dictionary of quotations\" of a different kind, concentrating on statements\\nand writings which, explicitly or implicitly, present the person\\'s philosophy\\nand world-view.  Includes obscure (and often suppressed) opinions from many\\npeople.  For some popular observations, traces the way in which various\\npeople expressed and twisted the idea over the centuries.  Quite a number of\\nthe quotations are derived from Cardiff\\'s \"What Great Men Think of Religion\"\\nand Noyes\\' \"Views of Religion\".\\n490 pages. ISBN (paper) 0-345-29887-X.\\n\\nRICHARD SWINBURNE\\n\\n\"The Existence of God (Revised Edition)\", Clarendon Paperbacks, Oxford\\nThis book is the second volume in a trilogy that began with \"The Coherence of\\nTheism\" (1977) and was concluded with \"Faith and Reason\" (1981).  In this\\nwork, Swinburne attempts to construct a series of inductive arguments for the\\nexistence of God.  His arguments, which are somewhat tendentious and rely\\nupon the imputation of late 20th century western Christian values and\\naesthetics to a God which is supposedly as simple as can be conceived, were\\ndecisively rejected in Mackie\\'s \"The Miracle of Theism\".  In the revised\\nedition of \"The Existence of God\", Swinburne includes an Appendix in which he\\nmakes a somewhat incoherent attempt to rebut Mackie.\\n\\nJ. L. MACKIE\\n\\n\"The Miracle of Theism\", Oxford\\nThis (posthumous) volume contains a comprehensive review of the principal\\narguments for and against the existence of God.  It ranges from the classical\\nphilosophical positions of Descartes, Anselm, Berkeley, Hume et al, through\\nthe moral arguments of Newman, Kant and Sidgwick, to the recent restatements\\nof the classical theses by Plantinga and Swinburne.  It also addresses those\\npositions which push the concept of God beyond the realm of the rational,\\nsuch as those of Kierkegaard, Kung and Philips, as well as \"replacements for\\nGod\" such as Lelie\\'s axiarchism.  The book is a delight to read - less\\nformalistic and better written than Martin\\'s works, and refreshingly direct\\nwhen compared with the hand-waving of Swinburne.\\n\\nJAMES A. HAUGHT\\n\\n\"Holy Horrors: An Illustrated History of Religious Murder and Madness\",\\n Prometheus Books\\nLooks at religious persecution from ancient times to the present day -- and\\nnot only by Christians.\\nLibrary of Congress Catalog Card Number 89-64079. 1990.\\n\\nNORM R. ALLEN, JR.\\n\\n\"African American Humanism: an Anthology\"\\nSee the listing for African Americans for Humanism above.\\n\\nGORDON STEIN\\n\\n\"An Anthology of Atheism and Rationalism\", Prometheus Books\\nAn anthology covering a wide range of subjects, including \\'The Devil, Evil\\nand Morality\\' and \\'The History of Freethought\\'.  Comprehensive bibliography.\\n\\nEDMUND D. COHEN\\n\\n\"The Mind of The Bible-Believer\", Prometheus Books\\nA study of why people become Christian fundamentalists, and what effect it\\nhas on them.\\n\\n                                Net Resources\\n\\nThere\\'s a small mail-based archive server at mantis.co.uk which carries\\narchives of old alt.atheism.moderated articles and assorted other files.  For\\nmore information, send mail to archive-server@mantis.co.uk saying\\n\\n   help\\n   send atheism/index\\n\\nand it will mail back a reply.\\n\\n\\nmathew\\nÿ\\n')\n"
     ]
    },
    {
     "data": {
      "text/plain": [
       "'Hence, X is a tuple with first element as name of doc and second as the content of the document.'"
      ]
     },
     "execution_count": 4,
     "metadata": {},
     "output_type": "execute_result"
    }
   ],
   "source": [
    "# Checking type of X and Y\n",
    "print(type(X))\n",
    "print(type(X[0]))\n",
    "print(type(Y))\n",
    "\n",
    "# Printing first element of X to analyse.\n",
    "print(X[0])\n",
    "\n",
    "'''Hence, X is a tuple with first element as name of doc and second as the content of the document.'''"
   ]
  },
  {
   "cell_type": "markdown",
   "metadata": {},
   "source": [
    "### ----------------------------------------------------------------------------------------------------------------------------"
   ]
  },
  {
   "cell_type": "markdown",
   "metadata": {},
   "source": [
    "### Creating a dictionary and analysing data."
   ]
  },
  {
   "cell_type": "code",
   "execution_count": 5,
   "metadata": {},
   "outputs": [
    {
     "name": "stdout",
     "output_type": "stream",
     "text": [
      "14997\n",
      "5000\n"
     ]
    }
   ],
   "source": [
    "# Splitting the data in training and testing.\n",
    "# Random state is used to prevent discrepencies in testing.\n",
    "\n",
    "x_train,x_test,y_train,y_test = model_selection.train_test_split(X, Y, random_state = 0)\n",
    "print(len(x_train))\n",
    "print(len(x_test))"
   ]
  },
  {
   "cell_type": "code",
   "execution_count": 6,
   "metadata": {},
   "outputs": [],
   "source": [
    "'''We will use re.split functionality to split document in words and store it.'''\n",
    "\n",
    "dic = {}\n",
    "for i in range(len(x_train)):\n",
    "    # Take X[i][1] for the text. X[i][0] contains categories.\n",
    "    # Convert all words to lowercase to prevent mismatch with lowercase stop words.\n",
    "    words = x_train[i][1].lower()\n",
    "    final_list = re.split(r'\\W+', words)\n",
    "    # Go through each word and add in dictionary.\n",
    "    # If already present increase frequency.\n",
    "    # If it is a stopp word, don't add.\n",
    "    for s in final_list:\n",
    "        if not(s.isalpha()) or (s in stop_word) or (len(s) <= 2):\n",
    "            continue\n",
    "        elif s in dic:\n",
    "            dic[s] += 1\n",
    "        else:\n",
    "            dic[s] = 1"
   ]
  },
  {
   "cell_type": "code",
   "execution_count": 9,
   "metadata": {},
   "outputs": [],
   "source": [
    "'''Now we sort the dictionary according to the frequency of words in descending order.'''\n",
    "\n",
    "sorted_dic = sorted(dic.items(), key = operator.itemgetter(1), reverse=True)"
   ]
  },
  {
   "cell_type": "code",
   "execution_count": 10,
   "metadata": {},
   "outputs": [
    {
     "data": {
      "text/plain": [
       "<function matplotlib.pyplot.show(*args, **kw)>"
      ]
     },
     "execution_count": 10,
     "metadata": {},
     "output_type": "execute_result"
    },
    {
     "data": {
      "image/png": "[encoded data removed]",
      "text/plain": [
       "<Figure size 432x288 with 1 Axes>"
      ]
     },
     "metadata": {
      "needs_background": "light"
     },
     "output_type": "display_data"
    }
   ],
   "source": [
    "# We will now use matplotlib to analyse the data in the dictionary.\n",
    "\n",
    "import matplotlib.pyplot as plt\n",
    "\n",
    "f = sorted_dic\n",
    "num_words = []\n",
    "freq = []\n",
    "for i in range(len(f)):\n",
    "    num_words.append(i)\n",
    "    freq.append(f[i][1])\n",
    "plt.plot(num_words, freq)\n",
    "plt.axis([0,8000,1,5000])\n",
    "plt.grid()\n",
    "plt.show"
   ]
  },
  {
   "cell_type": "code",
   "execution_count": 11,
   "metadata": {},
   "outputs": [
    {
     "name": "stdout",
     "output_type": "stream",
     "text": [
      "['edu', 'cmu', 'com', 'news', 'not', 'srv', 'cantaloupe', 'net', 'message', 'subject', 'lines', 'date', 'apr', 'path', 'newsgroups', 'organization', 'can', 'state', 'gmt', 'ohio', 'one', 'will', 'writes', 'article', 'comp', 'references', 'talk', 'misc', 'ans', 'howland', 'sender', 'reston', 'don', 'people', 'like', 'university', 'just', 'posting', 'nntp', 'mps', 'know', 'host', 'sci', 'get', 'zaphod', 'think', 'usenet', 'may', 'alt', 'politics', 'windows', 'also', 'time', 'rutgers', 'harvard', 'use', 'near', 'eng', 'new', 'rec', 'good', 'sei', 'crabapple', 'noc', 'xref', 'soc', 'system', 'das', 'well', 'now', 'cis', 'max', 'even', 'see', 'god', 'religion', 'europa', 'gtefsd', 'org', 'world', 'uunet', 'ece', 'way', 'say', 'make', 'christian', 'two', 'many', 'gov', 'much', 'first', 'rochester', 'right', 'distribution', 'club', 'andrew', 'mail', 'space', 'gatech', 'magnesium', 'anyone', 'want', 'reply', 'utexas', 'udel', 'used', 'culture', 'said', 'sys', 'sun', 'need', 'ibm', 'work', 'uiuc', 'really', 'nasa', 'computer', 'please', 'believe', 'something', 'sura', 'problem', 'still', 'since', 'hardware', 'graphics', 'back', 'netcom', 'off', 'usa', 'years', 'mac', 'help', 'information', 'government', 'find', 'take', 'going', 'point', 'file', 'using', 'better', 'might', 'year', 'things', 'last', 'never', 'question', 'thanks', 'david', 'read', 'mit', 'must', 'without', 'sure', 'etc', 'cso', 'usc', 'uucp', 'software', 'someone', 'another', 'access', 'doesn', 'number', 'made', 'forsale', 'case', 'got', 'look', 'data', 'let', 'thing', 'cwru', 'long', 'part', 'fact', 'law', 'drive', 'day', 'atheism', 'program', 'apple', 'john', 'guns', 'science', 'available', 'columbia', 'version', 'come', 'bit', 'however', 'power', 'little', 'anything', 'public', 'darwin', 'sport', 'tue', 'around', 'best', 'true', 'give', 'didn', 'seems', 'probably', 'every', 'different', 'set', 'jesus', 'group', 'least', 'fri', 'research', 'car', 'put', 'try', 'actually', 'key', 'real', 'tell', 'line', 'man', 'name', 'game', 'course', 'att', 'washington', 'life', 'great', 'enough', 'lot', 'list', 'run', 'hockey', 'post', 'bill', 'free', 'inc', 'support', 'next', 'systems', 'high', 'though', 'either', 'says', 'far', 'nothing', 'else', 'old', 'mean', 'called', 'second', 'end', 'stanford', 'pitt', 'call', 'wrong', 'yes', 'hard', 'thu', 'rather', 'possible', 'non', 'internet', 'turkish', 'acs', 'autos', 'mon', 'general', 'ins', 'reason', 'athos', 'card', 'network', 'jewish', 'others', 'agate', 'able', 'umd', 'baseball', 'uwm', 'mark', 'order', 'team', 'person', 'found', 'looking', 'image', 'based', 'place', 'security', 'bad', 'technology', 'isn', 'maybe', 'ever', 'email', 'seen', 'human', 'send', 'keep', 'center', 'purdue', 'problems', 'unix', 'med', 'three', 'example', 'done', 'yet', 'gun', 'israel', 'files', 'quite', 'info', 'control', 'american', 'following', 'always', 'sgi', 'michael', 'wrote', 'window', 'thought', 'crypt', 'jews', 'chip', 'heard', 'trying', 'mideast', 'means', 'colorado', 'electronics', 'wed', 'whether', 'children', 'virginia', 'berkeley', 'word', 'less', 'idea', 'given', 'national', 'phone', 'won', 'opinions', 'away', 'evidence', 'user', 'kind', 'today', 'geneva', 'haven', 'book', 'left', 'big', 'dos', 'keywords', 'times', 'service', 'abortion', 'start', 'toronto', 'getting', 'paul', 'several', 'seem', 'ftp', 'questions', 'jpl', 'home', 'scsi', 'rights', 'followup', 'clipper', 'remember', 'code', 'history', 'note', 'saying', 'source', 'open', 'makes', 'steve', 'frank', 'wupost', 'mike', 'standard', 'cannot', 'fbi', 'perhaps', 'caltech', 'change', 'games', 'department', 'institute', 'president', 'wanted', 'price', 'stuff', 'local', 'small', 'server', 'bogus', 'jim', 'digex', 'men', 'full', 'money', 'already', 'magnus', 'indiana', 'bible', 'win', 'fire', 'ask', 'ucs', 'sdd', 'large', 'answer', 'fax', 'mil', 'speed', 'address', 'matter', 'agree', 'running', 'clinton', 'issue', 'canada', 'motorcycles', 'approved', 'box', 'told', 'ago', 'robert', 'video', 'type', 'show', 'days', 'works', 'sale', 'whole', 'original', 'machine', 'care', 'hope', 'interested', 'states', 'buy', 'came', 'pretty', 'war', 'health', 'claim', 'love', 'college', 'legal', 'current', 'hand', 'play', 'math', 'church', 'often', 'black', 'april', 'everyone', 'mind', 'feel', 'include', 'live', 'simply', 'engineering', 'important', 'buffalo', 'pay', 'disk', 'stratus', 'almost', 'christians', 'sol', 'sandvik', 'christ', 'white', 'everything', 'understand', 'house', 'including', 'private', 'netnews', 'truth', 'encryption', 'started', 'dept', 'armenian', 'eff', 'caen', 'went', 'area', 'earth', 'cause', 'cornell', 'country', 'comes', 'copy', 'value', 'side', 'wouldn', 'soviet', 'instead', 'making', 'certainly', 'although', 'working', 'cost', 'memory', 'programs', 'color', 'write', 'igor', 'guess', 'death', 'feed', 'text', 'newsreader', 'consider', 'california', 'later', 'bnr', 'company', 'hell', 'unless', 'san', 'ucsd', 'ctr', 'pacific', 'display', 'difference', 'single', 'wisc', 'faith', 'brian', 'opinion', 'tried', 'low', 'anyway', 'view', 'james', 'police', 'religious', 'contact', 'ecn', 'major', 'sat', 'school', 'faq', 'light', 'dec', 'objective', 'bitnet', 'dead', 'morality', 'nice', 'computers', 'services', 'deal', 'words', 'koresh', 'check', 'dave', 'especially', 'society', 'argument', 'clear', 'sense', 'within', 'sort', 'anybody', 'hedrick', 'aramis', 'known', 'likely', 'iastate', 'peter', 'top', 'theory', 'uni', 'radio', 'talking', 'books', 'self', 'simple', 'blue', 'whatever', 'city', 'via', 'sni', 'board', 'screen', 'correct', 'armenians', 'common', 'pub', 'similar', 'force', 'privacy', 'certain', 'killed', 'provide', 'press', 'freenet', 'women', 'tin', 'cleveland', 'level', 'monitor', 'moral', 'taken', 'emory', 'bob', 'asked', 'austin', 'israeli', 'couple', 'summary', 'fine', 'fast', 'thus', 'mchp', 'upon', 'happened', 'stop', 'reading', 'saw', 'york', 'fan', 'political', 'head', 'per', 'third', 'among', 'sound', 'application', 'package', 'body', 'groups', 'motif', 'sorry', 'umn', 'exactly', 'become', 'goes', 'position', 'laws', 'players', 'night', 'account', 'usually', 'red', 'sex', 'output', 'peachnet', 'guy', 'users', 'early', 'mot', 'size', 'personal', 'statement', 'elroy', 'scott', 'business', 'kent', 'east', 'situation', 'swrinde', 'division', 'written', 'test', 'advance', 'physics', 'interesting', 'discussion', 'experience', 'took', 'manager', 'mine', 'request', 'rest', 'easy', 'office', 'disclaimer', 'needed', 'insurance', 'needs', 'therefore', 'format', 'form', 'posted', 'exist', 'hear', 'hit', 'uses', 'western', 'corp', 'astro', 'cup', 'period', 'answers', 'bike', 'turn', 'months', 'anti', 'germany', 'arizona', 'yale', 'past', 'ames', 'happen', 'according', 'particular', 'short', 'ksu', 'peace', 'driver', 'error', 'season', 'texas', 'except', 'ones', 'keys', 'four', 'transfer', 'bus', 'smith', 'add', 'sources', 'medical', 'ogicse', 'keith', 'csd', 'uci', 'bbs', 'kill', 'corporation', 'study', 'members', 'model', 'numbers', 'special', 'front', 'gas', 'series', 'isc', 'longer', 'week', 'effect', 'young', 'accept', 'duke', 'thomas', 'due', 'plus', 'project', 'images', 'tom', 'air', 'sell', 'specific', 'shall', 'media', 'ground', 'recently', 'face', 'king', 'mouse', 'navy', 'coming', 'vms', 'drivers', 'communications', 'lost', 'return', 'upenn', 'future', 'convex', 'expect', 'food', 'mode', 'microsoft', 'action', 'process', 'worth', 'taking', 'gets', 'performance', 'united', 'ufl', 'move', 'policy', 'wasn', 'job', 'christianity', 'sometimes', 'federal', 'league', 'pat', 'pipex', 'military', 'lord', 'ray', 'greek', 'horus', 'friend', 'offer', 'considered', 'water', 'outside', 'land', 'points', 'term', 'thinking', 'results', 'cases', 'story', 'doubt', 'aren', 'build', 'cars', 'uchicago', 'involved', 'newsserver', 'reference', 'result', 'eric', 'richard', 'weapons', 'various', 'speak', 'act', 'values', 'gap', 'none', 'army', 'design', 'chris', 'tape', 'explain', 'total', 'close', 'batf', 'assume', 'international', 'soon', 'voice', 'response', 'freedom', 'jhu', 'necessary', 'together', 'choice', 'looks', 'optilink', 'along', 'programmer', 'road', 'hold', 'jon', 'site', 'million', 'report', 'uknet', 'market', 'comments', 'technical', 'athena', 'built', 'child', 'related', 'pittsburgh', 'section', 'player', 'ideas', 'environment', 'rate', 'tech', 'deleted', 'demon', 'sin', 'runs', 'computing', 'std', 'univ', 'crime', 'bear', 'behind', 'george', 'dod', 'cover', 'previous', 'claims', 'henry', 'development', 'parts', 'knowledge', 'population', 'save', 'building', 'leave', 'ubc', 'field', 'wants', 'couldn', 'allow', 'willing', 'father', 'america', 'interest', 'issues', 'present', 'west', 'includes', 'cut', 'ram', 'asking', 'clearly', 'drives', 'knows', 'entry', 'quality', 'rules', 'decwrl', 'follow', 'boston', 'apps', 'ide', 'higher', 'nec', 'universe', 'appreciated', 'anonymous', 'dan', 'modem', 'pro', 'strong', 'muslim', 'main', 'mantis', 'sounds', 'exists', 'purpose', 'nature', 'watson', 'command', 'sent', 'green', 'armenia', 'court', 'currently', 'reasons', 'takes', 'directory', 'otherwise', 'ways', 'included', 'joe', 'europe', 'die', 'poster', 'mentioned', 'newsgroup', 'applications', 'arab', 'drug', 'machines', 'unit', 'arms', 'waco', 'existence', 'scientific', 'conspiracy', 'completely', 'genocide', 'living', 'useful', 'appears', 'north', 'vax', 'tek', 'son', 'complete', 'umich', 'belief', 'portal', 'alaska', 'gives', 'indeed', 'basis', 'pgp', 'chicago', 'mcgill', 'individual', 'page', 'administration', 'doug', 'manual', 'gary', 'lab', 'meaning', 'algorithm', 'noise', 'gateway', 'princeton', 'brown', 'party', 'half', 'inside', 'drugs', 'average', 'matthew', 'cards', 'faster', 'turkey', 'andy', 'family', 'community', 'tim', 'function', 'neither', 'atheists', 'origins', 'bought', 'create', 'created', 'defense', 'acc', 'mass', 'illinois', 'secret', 'serial', 'suggest', 'language', 'event', 'paper', 'rpi', 'ncr', 'advice', 'views', 'received', 'device', 'shot', 'normal', 'basic', 'torn', 'processing', 'supposed', 'south', 'rush', 'thank', 'weeks', 'fido', 'chance', 'muslims', 'finally', 'lots', 'wait', 'obviously', 'class', 'base', 'launch', 'required', 'serious', 'object', 'necessarily', 'energy', 'events', 'difficult', 'stephen', 'illegal', 'author', 'attack', 'colostate', 'coverage', 'looked', 'gave', 'cable', 'controller', 'hours', 'acsu', 'digital', 'cdt', 'shuttle', 'nott', 'folks', 'directly', 'extra', 'congress', 'mitre', 'context', 'nhl', 'cheap', 'mcsun', 'lead', 'student', 'zuma', 'library', 'engine', 'plan', 'spool', 'adobe', 'wish', 'break', 'oracle', 'enforcement', 'ncsu', 'figure', 'psu', 'reality', 'learn', 'room', 'primate', 'wonder', 'terms', 'commercial', 'definition', 'reasonable', 'owner', 'actions', 'station', 'carry', 'record', 'carleton', 'entire', 'rose', 'saimiri', 'mnemosyne', 'responsible', 'lee', 'tools', 'rule', 'central', 'widget', 'final', 'lives', 'happy', 'murdoch', 'volume', 'details', 'limited', 'title', 'ken', 'places', 'whose', 'changed', 'asd', 'unfortunately', 'edt', 'prove', 'door', 'joseph', 'heart', 'tax', 'method', 'msdos', 'equipment', 'acns', 'amount', 'died', 'happens', 'americans', 'batcomputer', 'wondering', 'civil', 'reports', 'stated', 'condition', 'russian', 'products', 'jeff', 'imagine', 'psinntp', 'devices', 'safety', 'des', 'art', 'facts', 'jvnc', 'analysis', 'evil', 'dog', 'miles', 'letter', 'recent', 'release', 'age', 'alone', 'allowed', 'bring', 'product', 'compound', 'online', 'engr', 'generally', 'clock', 'laboratory', 'define', 'ctron', 'livesey', 'companies', 'designed', 'hate', 'mention', 'late', 'unc', 'port', 'citizens', 'easily', 'constitution', 'stand', 'street', 'cramer', 'printer', 'logic', 'trouble', 'stupid', 'roger', 'reported', 'interface', 'oil', 'turks', 'suppose', 'originator', 'audio', 'month', 'btw', 'knew', 'double', 'wife', 'disease', 'utnut', 'mother', 'jack', 'continue', 'yeah', 'regarding', 'gif', 'middle', 'official', 'apparently', 'utk', 'ucsu', 'atf', 'conference', 'goal', 'proof', 'intercon', 'georgia', 'attempt', 'van', 'wpi', 'require', 'medicine', 'input', 'physical', 'midway', 'forget', 'starting', 'friends', 'pass', 'held', 'teams', 'psuvm', 'switch', 'studies', 'lack', 'solution', 'obvious', 'resources', 'lower', 'false', 'pick', 'cpu', 'bhj', 'guys', 'limbaugh', 'larry', 'bits', 'decided', 'escrow', 'watch', 'avoid', 'archive', 'blood', 'apply', 'installed', 'quote', 'worked', 'authority', 'internal', 'across', 'fonts', 'homosexuality', 'mary', 'gay', 'mormons', 'suspect', 'nobody', 'material', 'protect', 'murder', 'amiga', 'gone', 'bell', 'appear', 'excellent', 'supply', 'rob', 'hands', 'natural', 'chi', 'uwaterloo', 'member', 'brought', 'charles', 'costs', 'education', 'led', 'fans', 'utoronto', 'los', 'apollo', 'mailing', 'decision', 'electronic', 'areas', 'choose', 'kevin', 'nyx', 'search', 'range', 'atlanta', 'cambridge', 'alan', 'names', 'caused', 'trust', 'addition', 'col', 'music', 'worse', 'suggestions', 'perfect', 'giz', 'driving', 'shipping', 'somebody', 'amendment', 'beyond', 'zoo', 'possibly', 'doc', 'heaven', 'practice', 'csus', 'uwo', 'giving', 'fall', 'print', 'shows', 'lehigh', 'intel', 'phil', 'destroyer', 'serdar', 'former', 'adam', 'chips', 'uoknor', 'turned', 'nigel', 'contains', 'xterm', 'british', 'firearms', 'killing', 'trade', 'ira', 'writing', 'linac', 'five', 'ten', 'basically', 'rit', 'fit', 'orbit', 'islam', 'argic', 'countries', 'effective', 'administrator', 'ericsson', 'posts', 'tel', 'leland', 'respect', 'understanding', 'appreciate', 'export', 'comment', 'articles', 'dseg', 'australia', 'poor', 'cross', 'disks', 'clarkson', 'responsibility', 'desire', 'ron', 'matt', 'added', 'gordon', 'sold', 'calls', 'remote', 'played', 'protection', 'social', 'spirit', 'picture', 'nsa', 'approach', 'mathew', 'ford', 'programming', 'appropriate', 'provided', 'earlier', 'hot', 'homosexual', 'boulder', 'ability', 'expressed', 'rich', 'master', 'vote', 'justice', 'particularly', 'requires', 'treatment', 'fairly', 'playing', 'march', 'mission', 'closed', 'arguments', 'desy', 'pts', 'beginning', 'prism', 'wide', 'stay', 'modern', 'regular', 'temple', 'setup', 'pit', 'jpeg', 'seriously', 'tamu', 'born', 'hey', 'wpd', 'vga', 'somewhere', 'hall', 'floppy', 'dwyer', 'gsfc', 'msu', 'font', 'secure', 'sgiblab', 'cult', 'statements', 'personally', 'shell', 'admin', 'described', 'fnal', 'majority', 'okstate', 'lib', 'berlin', 'cancer', 'senator', 'prevent', 'holy', 'minutes', 'direct', 'lcs', 'bruce', 'msg', 'signal', 'increase', 'straight', 'reserve', 'pictures', 'paid', 'absolutely', 'dartmouth', 'cray', 'acts', 'hello', 'moon', 'greatly', 'calling', 'postscript', 'beliefs', 'shouldn', 'chem', 'saturn', 'william', 'agents', 'independent', 'handle', 'pain', 'angeles', 'pages', 'serve', 'dangerous', 'rom', 'skeptic', 'concert', 'dealer', 'realize', 'draw', 'recall', 'judge', 'aware', 'csc', 'islamic', 'atheist', 'loss', 'option', 'effort', 'hole', 'activities', 'nuclear', 'boeing', 'sera', 'merely', 'kept', 'assuming', 'unm', 'standards', 'expensive', 'moment', 'begin', 'morning', 'spot', 'published', 'considering', 'branch', 'panix', 'german', 'proper', 'warning', 'rice', 'wright', 'safe', 'objects', 'multiple', 'tar', 'share', 'behavior', 'tony', 'notice', 'changes', 'keyboard', 'actual', 'rick', 'risk', 'magazine', 'specifically', 'uxa', 'auto', 'soldiers', 'popular', 'random', 'solntze', 'decide', 'defined', 'prices', 'meant', 'count', 'intended', 'park', 'percent', 'effects', 'european', 'concerned', 'spend', 'round', 'ulowell', 'satellite', 'fully', 'allen', 'models', 'developed', 'convert', 'newshost', 'receive', 'frame', 'greg', 'brandeis', 'sas', 'monash', 'aurora', 'patients', 'operation', 'cam', 'rocket', 'woman', 'thread', 'provides', 'bunch', 'wayne', 'buying', 'flame', 'types', 'marc', 'brad', 'block', 'crypto', 'enterpoop', 'committee', 'doctor', 'sites', 'errors', 'speaking', 'urbana', 'daniel', 'mentor', 'step', 'charge', 'isa', 'review', 'towards', 'concept', 'fear', 'respond', 'hallam', 'animation', 'laurentian', 'arabs', 'seeing', 'impossible', 'options', 'aids', 'eternal', 'table', 'brain', 'ann', 'significant', 'wam', 'sfu', 'install', 'fair', 'daily', 'silver', 'allows', 'quick', 'pin', 'myers', 'banks', 'prefer', 'selling', 'bmw', 'motherboard', 'weapon', 'uga', 'slow', 'six', 'owners', 'arabic', 'argue', 'fight', 'armed', 'star', 'cobb', 'informatik', 'visual', 'nmsu', 'nation', 'resource', 'latest', 'resolution', 'nazi', 'disagree', 'claimed', 'setting', 'creation', 'morris', 'admit', 'noticed', 'compared', 'maine', 'warrant', 'libertarian', 'entirely', 'putting', 'status', 'mostly', 'jason', 'besides', 'sexual', 'wings', 'ride', 'kids', 'colors', 'mhz', 'bellcore', 'race', 'copies', 'lbl', 'consumers', 'shown', 'english', 'accepted', 'yuma', 'yesterday', 'dcs', 'trial', 'zip', 'larc', 'fred', 'produce', 'alchemy', 'galileo', 'drop', 'properly', 'failed', 'possibility', 'msen', 'radar', 'detroit', 'moving', 'usr', 'catholic', 'additional', 'det', 'vehicle', 'totally', 'guest', 'ted', 'property', 'arc', 'wire', 'jake', 'adl', 'features', 'greater', 'acm', 'telephone', 'meg', 'heat', 'express', 'description', 'parents', 'communication', 'miller', 'supports', 'bush', 'seattle', 'espn', 'rusnews', 'walter', 'expected', 'sciences', 'circuit', 'ryan', 'fun', 'individuals', 'easier', 'century', 'criminals', 'highly', 'conclusion', 'alternative', 'michigan', 'claremont', 'olivea', 'professor', 'throw', 'external', 'supported', 'agency', 'eyes', 'humans', 'everybody', 'cunixb', 'town', 'taxes', 'flight', 'intelligence', 'zeus', 'rider', 'pressure', 'connected', 'messages', 'domain', 'wall', 'francisco', 'geb', 'monitors', 'tend', 'int', 'dscomsa', 'ucsc', 'scripture', 'cold', 'compatible', 'welcome', 'evolution', 'innocent', 'forces', 'luck', 'separate', 'ball', 'battery', 'attention', 'meet', 'forward', 'connection', 'knowing', 'genesis', 'munnari', 'thousands', 'versions', 'brother', 'valid', 'ingr', 'traffic', 'fix', 'client', 'missing', 'jobs', 'immediately', 'proposed', 'training', 'document', 'clutch', 'keeping', 'halat', 'criminal', 'soul', 'bank', 'oulu', 'piece', 'louis', 'foreign', 'waiting', 'umass', 'sunday', 'msuinfo', 'anatolia', 'escape', 'larger', 'vice', 'igc', 'weight', 'oakland', 'linus', 'absolute', 'upgrade', 'vancouver', 'ready', 'martin', 'character', 'steven', 'island', 'lose', 'hiv', 'buf', 'applied', 'accurate', 'released', 'electrical', 'equal', 'clone', 'jsc', 'sky', 'harris', 'causes', 'beat', 'mountain', 'quickly', 'anywhere', 'industry', 'fsu', 'heavy', 'passed', 'semi', 'despite', 'ramsey', 'agencies', 'determine', 'ieee', 'nist', 'regards', 'eye', 'advantage', 'somehow', 'became', 'committed', 'root', 'instance', 'generation', 'biblical', 'bedfellow', 'remove', 'ahead', 'style', 'tool', 'notes', 'management', 'license', 'davis', 'moe', 'rock', 'believed', 'bos', 'compare', 'null', 'degree', 'troops', 'discuss', 'uka', 'concordia', 'iranian', 'guide', 'fidonet', 'purchase', 'attacks', 'ice', 'theories', 'surface', 'load', 'ontario', 'pre', 'editor', 'motorola', 'reach', 'ursa', 'male', 'flames', 'obtain', 'laser', 'automatic', 'bradley', 'employer', 'typical', 'multi', 'sample', 'papers', 'ysu', 'solar', 'postings', 'pixel', 'jose', 'existing', 'davidians', 'rates', 'seemed', 'russia', 'grace', 'craig', 'levels', 'maynard', 'potential', 'positive', 'began', 'lived', 'douglas', 'showed', 'examples', 'lock', 'role', 'apc', 'planetary', 'activity', 'lynx', 'stick', 'nearly', 'watching', 'canadian', 'functions', 'perry']\n"
     ]
    }
   ],
   "source": [
    "'''I decided to use the top 2000 words for the best result'''\n",
    "\n",
    "feat = [f[i][0] for i in range(2000)]\n",
    "print(feat)"
   ]
  },
  {
   "cell_type": "markdown",
   "metadata": {},
   "source": [
    "### ----------------------------------------------------------------------------------------------------------------------------"
   ]
  },
  {
   "cell_type": "markdown",
   "metadata": {},
   "source": [
    "### Creating Datasets"
   ]
  },
  {
   "cell_type": "code",
   "execution_count": 12,
   "metadata": {},
   "outputs": [],
   "source": [
    "# We will create a dataset for both X_train and X_test. It will be m * n table with words as columns and data points as frequency\n",
    "# of those words.\n",
    "# Y_train and Y_test will contai the categories of the newsgroups.\n",
    "\n",
    "X_train = np.zeros([len(x_train), len(feat)], int)\n",
    "for i in range(len(x_train)):\n",
    "    words = x_train[i][1].lower()\n",
    "    word = re.split(r'\\W+',words)\n",
    "    # Iterating over each word\n",
    "    for j in word:\n",
    "        # We will add the frequency corresponding to that word only which is in our features list (feat)\n",
    "        if j in feat:\n",
    "            X_train[i][feat.index(j)] += 1"
   ]
  },
  {
   "cell_type": "code",
   "execution_count": 14,
   "metadata": {},
   "outputs": [],
   "source": [
    "X_test = np.zeros([len(x_test), len(feat)], int)\n",
    "for i in range(len(x_test)):\n",
    "    words = x_test[i][1].lower()\n",
    "    word = re.split(r'\\W+',words)\n",
    "    # Iterating over each word\n",
    "    for j in word:\n",
    "        # We will add the frequency corresponding to that word only which is in our features list (feat)\n",
    "        if j in feat:\n",
    "            X_test[i][feat.index(j)] += 1"
   ]
  },
  {
   "cell_type": "code",
   "execution_count": 15,
   "metadata": {},
   "outputs": [
    {
     "name": "stdout",
     "output_type": "stream",
     "text": [
      "[[ 9  2  3 ...  0  0  0]\n",
      " [ 4  1  4 ...  0  0  0]\n",
      " [ 2  2  8 ...  0  0  0]\n",
      " ...\n",
      " [ 5  1  6 ...  0  0  0]\n",
      " [ 9  3  0 ...  0  0  0]\n",
      " [13  1  1 ...  0  0  0]]\n",
      "\n",
      "\n",
      "[[ 9  4  0 ...  0  0  0]\n",
      " [ 7  4  7 ...  0  0  0]\n",
      " [10  3  8 ...  0  0  0]\n",
      " ...\n",
      " [ 2  1  7 ...  0  0  0]\n",
      " [17  3  0 ...  0  0  0]\n",
      " [ 3  1  0 ...  0  0  0]]\n"
     ]
    }
   ],
   "source": [
    "print(X_train)\n",
    "print()\n",
    "print()\n",
    "print(X_test)"
   ]
  },
  {
   "cell_type": "markdown",
   "metadata": {},
   "source": [
    "### ----------------------------------------------------------------------------------------------------------------------------"
   ]
  },
  {
   "cell_type": "markdown",
   "metadata": {},
   "source": [
    "### Using SKLearn MultinomialNB for prediction."
   ]
  },
  {
   "cell_type": "code",
   "execution_count": 16,
   "metadata": {},
   "outputs": [
    {
     "name": "stdout",
     "output_type": "stream",
     "text": [
      "['comp.windows.x' 'sci.med' 'talk.politics.guns' ... 'rec.motorcycles'\n",
      " 'alt.atheism' 'rec.sport.hockey']\n"
     ]
    }
   ],
   "source": [
    "'''Using inbult Multinomial Naive Bayes for prediction.'''\n",
    "\n",
    "from sklearn.naive_bayes import MultinomialNB\n",
    "\n",
    "clf1 = MultinomialNB()\n",
    "clf1.fit(X_train, y_train)\n",
    "Y_pred1 = clf1.predict(X_test)\n",
    "print(Y_pred1)"
   ]
  },
  {
   "cell_type": "code",
   "execution_count": 17,
   "metadata": {},
   "outputs": [
    {
     "name": "stdout",
     "output_type": "stream",
     "text": [
      "                          precision    recall  f1-score   support\n",
      "\n",
      "             alt.atheism       0.82      0.82      0.82       232\n",
      "           comp.graphics       0.80      0.82      0.81       245\n",
      " comp.os.ms-windows.misc       0.78      0.84      0.81       229\n",
      "comp.sys.ibm.pc.hardware       0.82      0.68      0.74       289\n",
      "   comp.sys.mac.hardware       0.86      0.75      0.80       270\n",
      "          comp.windows.x       0.70      0.87      0.78       195\n",
      "            misc.forsale       0.89      0.82      0.86       283\n",
      "               rec.autos       0.92      0.89      0.90       279\n",
      "         rec.motorcycles       0.96      0.91      0.94       302\n",
      "      rec.sport.baseball       0.92      0.93      0.92       244\n",
      "        rec.sport.hockey       0.97      0.93      0.94       241\n",
      "               sci.crypt       0.96      0.96      0.96       234\n",
      "         sci.electronics       0.87      0.87      0.87       243\n",
      "                 sci.med       0.85      0.93      0.89       234\n",
      "               sci.space       0.93      0.95      0.94       242\n",
      "  soc.religion.christian       1.00      0.95      0.98       264\n",
      "      talk.politics.guns       0.90      0.81      0.85       276\n",
      "   talk.politics.mideast       0.85      0.93      0.89       258\n",
      "      talk.politics.misc       0.69      0.76      0.72       233\n",
      "      talk.religion.misc       0.62      0.71      0.66       207\n",
      "\n",
      "               micro avg       0.86      0.86      0.86      5000\n",
      "               macro avg       0.85      0.86      0.85      5000\n",
      "            weighted avg       0.86      0.86      0.86      5000\n",
      "\n",
      "\n",
      "\n",
      "[[190   0   0   0   0   0   0   0   0   0   0   0   0   0   0   0   0   0\n",
      "    0  42]\n",
      " [  0 202  10   0   2  17   0   0   0   0   0   4   3   5   1   0   0   0\n",
      "    0   1]\n",
      " [  0  12 193   3   0  20   1   0   0   0   0   0   0   0   0   0   0   0\n",
      "    0   0]\n",
      " [  0  20  17 196  25  11   7   1   0   0   0   0   9   1   1   0   1   0\n",
      "    0   0]\n",
      " [  0   3   5  32 203  11   3   1   0   0   0   0   4   6   0   0   0   2\n",
      "    0   0]\n",
      " [  0   8  15   0   0 169   0   0   0   0   0   2   0   1   0   0   0   0\n",
      "    0   0]\n",
      " [  1   4   2   5   6   2 233  11   3   4   0   1   4   1   1   0   0   4\n",
      "    1   0]\n",
      " [  2   2   1   0   0   0   7 247   5   1   0   0   6   3   1   0   0   3\n",
      "    0   1]\n",
      " [  2   0   0   1   0   1   2   2 274   2   1   0   2   9   2   0   3   1\n",
      "    0   0]\n",
      " [  0   1   0   0   0   0   0   1   2 227   6   0   1   2   2   0   0   1\n",
      "    1   0]\n",
      " [  0   0   0   0   0   0   1   1   0  13 223   0   0   0   1   0   0   1\n",
      "    0   1]\n",
      " [  0   0   1   0   0   1   0   0   0   0   0 224   0   1   0   0   3   0\n",
      "    4   0]\n",
      " [  1   0   3   3   0   4   6   5   0   0   0   1 212   5   3   0   0   0\n",
      "    0   0]\n",
      " [  2   1   1   0   0   2   0   0   0   0   0   1   2 218   3   0   0   0\n",
      "    3   1]\n",
      " [  0   0   1   0   0   2   1   0   0   1   1   0   1   3 229   0   1   0\n",
      "    2   0]\n",
      " [  1   0   0   0   0   0   0   0   0   0   0   0   0   0   0 252   0   0\n",
      "    1  10]\n",
      " [  0   0   0   0   0   0   0   0   0   0   0   0   0   0   1   0 223   7\n",
      "   34  11]\n",
      " [  0   0   0   0   0   0   0   0   0   0   0   0   0   1   0   0   0 240\n",
      "   15   2]\n",
      " [  0   0   0   0   0   0   0   0   0   0   0   0   0   0   1   0  13  20\n",
      "  178  21]\n",
      " [ 34   0   0   0   0   0   0   0   0   0   0   0   0   0   0   0   5   2\n",
      "   20 146]]\n"
     ]
    }
   ],
   "source": [
    "'''Using confusion matrix and classification report to test the accuracy and analyse\n",
    "   performance of algorithm.'''\n",
    "\n",
    "from sklearn.metrics import classification_report, confusion_matrix\n",
    "\n",
    "print(classification_report(Y_pred1, y_test))\n",
    "print()\n",
    "print()\n",
    "print(confusion_matrix(Y_pred1, y_test))"
   ]
  },
  {
   "cell_type": "markdown",
   "metadata": {},
   "source": [
    "### ----------------------------------------------------------------------------------------------------------------------------"
   ]
  },
  {
   "cell_type": "markdown",
   "metadata": {},
   "source": [
    "### Using Self Implemented MultinomialNB for prediction."
   ]
  },
  {
   "cell_type": "code",
   "execution_count": 18,
   "metadata": {},
   "outputs": [],
   "source": [
    "#Making dictionary for implementing Naive Baye's\n",
    "def fit(X_train,y_train):\n",
    "    count = {}\n",
    "    total_word = 0\n",
    "    y_train = np.array(y_train)\n",
    "    #Total no. of document is calculated\n",
    "    count[\"total_doc\"] = len(y_train)\n",
    "    classes=set(y_train)\n",
    "    for i in classes:\n",
    "        temp=0\n",
    "        #selecting x_train corresponding to class present in y_train\n",
    "        x_train_with_i = X_train[y_train==i]\n",
    "        #finding length of data with category corresponding to i \n",
    "        temp2=x_train_with_i.shape[0]\n",
    "        count[i]={}\n",
    "        #Iterating over answer1(actual feature list)\n",
    "        for feature in feat:\n",
    "            #Calculating total word in feature\n",
    "            l=(x_train_with_i[:,feat.index(feature)]).sum()\n",
    "            count[i][feature]=l\n",
    "            temp+=l\n",
    "        #Total word in that class\n",
    "        count[i][\"word_in_class\"]=temp\n",
    "        #Length of data with y_train belonging to specific class\n",
    "        count[i][\"length\"]=temp2\n",
    "    return count"
   ]
  },
  {
   "cell_type": "code",
   "execution_count": 19,
   "metadata": {},
   "outputs": [],
   "source": [
    "def probability(x_test,dic,classes):\n",
    "    prob=np.log(dic[classes][\"length\"])-np.log(dic[\"total_doc\"])\n",
    "    feature=list(dic[classes].keys())\n",
    "    #-2 is done becuase there will be \"length\" and \"word in class\" present in feature. \n",
    "    for j in range (len(feature)-2):\n",
    "        xj=x_test[j]\n",
    "        #If frequency is 0, we will not consider it\n",
    "        if xj==0:\n",
    "            current_prob=0\n",
    "        else:\n",
    "            #Extra addition part is Laplace correction\n",
    "            num=dic[classes][feature[j]]+1\n",
    "            den=dic[classes][\"word_in_class\"]+len(dic[classes].keys())-2\n",
    "            current_prob=np.log(num)-np.log(den)\n",
    "        prob+=current_prob\n",
    "    return prob"
   ]
  },
  {
   "cell_type": "code",
   "execution_count": 22,
   "metadata": {},
   "outputs": [],
   "source": [
    "#Best_class or probable answer will be returned from here\n",
    "def predict_for_single(x_test,dic):\n",
    "    first_run=True\n",
    "    classes=dic.keys()\n",
    "    for i in classes:\n",
    "        if i==\"total_doc\":\n",
    "            continue\n",
    "        prob=probability(x_test,dic,i)\n",
    "        if first_run or prob>best_prob:\n",
    "            best_prob=prob\n",
    "            first_run=False\n",
    "            best_class=i\n",
    "    return best_class"
   ]
  },
  {
   "cell_type": "code",
   "execution_count": 20,
   "metadata": {},
   "outputs": [],
   "source": [
    "def predict_(x_test,dic):\n",
    "    y_pred=[]\n",
    "    for x in x_test:\n",
    "        y_pred.append(predict_for_single(x,dic))\n",
    "    return y_pred"
   ]
  },
  {
   "cell_type": "code",
   "execution_count": 23,
   "metadata": {},
   "outputs": [],
   "source": [
    "#This cell will take time to execute\n",
    "dictionary = fit(X_train,y_train)\n",
    "y_pred2 = predict_(X_test,dictionary)"
   ]
  },
  {
   "cell_type": "code",
   "execution_count": 24,
   "metadata": {},
   "outputs": [
    {
     "name": "stdout",
     "output_type": "stream",
     "text": [
      "                          precision    recall  f1-score   support\n",
      "\n",
      "             alt.atheism       0.78      0.88      0.82       233\n",
      "           comp.graphics       0.75      0.83      0.79       253\n",
      " comp.os.ms-windows.misc       0.89      0.69      0.77       249\n",
      "comp.sys.ibm.pc.hardware       0.70      0.85      0.76       240\n",
      "   comp.sys.mac.hardware       0.82      0.88      0.85       236\n",
      "          comp.windows.x       0.88      0.76      0.82       240\n",
      "            misc.forsale       0.83      0.89      0.86       261\n",
      "               rec.autos       0.95      0.93      0.94       269\n",
      "         rec.motorcycles       0.95      0.99      0.97       284\n",
      "      rec.sport.baseball       0.96      0.95      0.96       248\n",
      "        rec.sport.hockey       0.96      0.98      0.97       231\n",
      "               sci.crypt       0.96      0.96      0.96       233\n",
      "         sci.electronics       0.89      0.93      0.91       244\n",
      "                 sci.med       0.95      0.92      0.93       256\n",
      "               sci.space       0.96      0.94      0.95       246\n",
      "  soc.religion.christian       0.97      1.00      0.99       252\n",
      "      talk.politics.guns       0.80      0.91      0.85       249\n",
      "   talk.politics.mideast       0.94      0.91      0.92       281\n",
      "      talk.politics.misc       0.75      0.72      0.73       259\n",
      "      talk.religion.misc       0.78      0.53      0.63       236\n",
      "\n",
      "               micro avg       0.87      0.87      0.87      5000\n",
      "               macro avg       0.87      0.87      0.87      5000\n",
      "            weighted avg       0.87      0.87      0.87      5000\n",
      "\n",
      "\n",
      "\n",
      "[[205   0   0   1   0   1   1   1   1   1   0   0   0   2   0   0   0   0\n",
      "    1  19]\n",
      " [  0 209   6  22   4   4   4   0   0   1   0   0   1   2   0   0   0   0\n",
      "    0   0]\n",
      " [  0  22 171  25   3  18   2   0   0   0   0   3   2   0   2   0   0   0\n",
      "    1   0]\n",
      " [  0   3   0 203  28   0   5   0   0   0   0   0   1   0   0   0   0   0\n",
      "    0   0]\n",
      " [  0   2   0  21 207   0   6   0   0   0   0   0   0   0   0   0   0   0\n",
      "    0   0]\n",
      " [  0  25  16   4   6 183   2   0   0   0   0   1   1   1   1   0   0   0\n",
      "    0   0]\n",
      " [  0   0   0  10   1   0 231   7   0   0   0   0  10   1   1   0   0   0\n",
      "    0   0]\n",
      " [  0   0   0   0   1   1  10 250   2   0   0   0   5   0   0   0   0   0\n",
      "    0   0]\n",
      " [  0   0   0   0   0   0   2   1 280   0   0   0   0   0   1   0   0   0\n",
      "    0   0]\n",
      " [  0   0   0   0   0   0   2   0   2 235   9   0   0   0   0   0   0   0\n",
      "    0   0]\n",
      " [  0   0   0   0   0   0   1   1   0   3 226   0   0   0   0   0   0   0\n",
      "    0   0]\n",
      " [  0   4   0   0   0   1   0   0   0   0   0 224   4   0   0   0   0   0\n",
      "    0   0]\n",
      " [  0   2   0   5   1   0   4   3   1   1   0   0 226   1   0   0   0   0\n",
      "    0   0]\n",
      " [  0   5   0   0   1   0   1   1   5   1   1   1   4 235   1   0   0   0\n",
      "    0   0]\n",
      " [  0   5   0   0   0   0   1   0   1   0   0   0   1   3 232   0   0   0\n",
      "    3   0]\n",
      " [  0   0   0   0   0   0   0   0   0   0   0   0   0   0   0 252   0   0\n",
      "    0   0]\n",
      " [  0   0   0   0   0   0   0   0   2   0   0   2   0   0   0   0 227   0\n",
      "   15   3]\n",
      " [  0   0   0   0   0   0   3   0   0   1   0   0   0   0   1   0   5 255\n",
      "   16   0]\n",
      " [  0   0   0   0   0   0   2   0   0   1   0   1   0   2   3   0  37  14\n",
      "  186  13]\n",
      " [ 59   1   0   0   0   0   1   0   0   0   0   1   0   0   0   7  14   2\n",
      "   27 124]]\n"
     ]
    }
   ],
   "source": [
    "'''Using confusion matrix and classification report to test the accuracy and analyse\n",
    "   performance of algorithm.'''\n",
    "\n",
    "from sklearn.metrics import classification_report, confusion_matrix\n",
    "\n",
    "print(classification_report(y_test, y_pred2))\n",
    "print()\n",
    "print()\n",
    "print(confusion_matrix(y_test, y_pred2))"
   ]
  },
  {
   "cell_type": "code",
   "execution_count": 25,
   "metadata": {},
   "outputs": [
    {
     "data": {
      "text/plain": [
       "'My classifier gives an accuracy of 0.87 compared to 0.86 of SKLearn. Both perform well.'"
      ]
     },
     "execution_count": 25,
     "metadata": {},
     "output_type": "execute_result"
    }
   ],
   "source": [
    "'''My classifier gives an accuracy of 0.87 compared to 0.86 of SKLearn. Both perform well.'''"
   ]
  }
 ],
 "metadata": {
  "kernelspec": {
   "display_name": "Python 3",
   "language": "python",
   "name": "python3"
  },
  "language_info": {
   "codemirror_mode": {
    "name": "ipython",
    "version": 3
   },
   "file_extension": ".py",
   "mimetype": "text/x-python",
   "name": "python",
   "nbconvert_exporter": "python",
   "pygments_lexer": "ipython3",
   "version": "3.7.3"
  }
 },
 "nbformat": 4,
 "nbformat_minor": 2
}
